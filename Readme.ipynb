{
 "cells": [
  {
   "cell_type": "markdown",
   "id": "31afa583-cde0-41ca-ab15-8c520b9cbba3",
   "metadata": {},
   "source": [
    "## OVERVIEW"
   ]
  },
  {
   "cell_type": "markdown",
   "id": "cb727879-8db1-4c54-90e8-620c6b95e037",
   "metadata": {},
   "source": [
    "PROBLEM STATEMENT"
   ]
  },
  {
   "cell_type": "markdown",
   "id": "dcb56a14-c16a-4c91-abdf-9cedb6fa3be6",
   "metadata": {},
   "source": [
    "A bank wishes to leverage its customer data to gain insight and highlight areas for the business improvement and to check whether the customer have exited the bank or retained"
   ]
  },
  {
   "cell_type": "markdown",
   "id": "3830fcea-b7bb-4c9c-892d-8444477f519f",
   "metadata": {},
   "source": [
    " ## OBJECTIVES"
   ]
  },
  {
   "cell_type": "code",
   "execution_count": null,
   "id": "2163f5f6-e696-48fa-a0e9-f3d25827fe63",
   "metadata": {},
   "outputs": [],
   "source": [
    "Demorgraphic analysis\n",
    "Customer engagement parterns\n",
    "Exited customer analysis\n",
    "Financial performance"
   ]
  },
  {
   "cell_type": "markdown",
   "id": "04bacabd-5684-4b49-aa72-103739884c7f",
   "metadata": {},
   "source": [
    "We wiil be acheiving these using the following steps\n"
   ]
  },
  {
   "cell_type": "markdown",
   "id": "2a9c588a-7415-4fe0-9c31-7169f58eb478",
   "metadata": {},
   "source": [
    "-Mastering the data and the businness\n",
    "-Data explorations and cleaning\n",
    "-Visualization to enable us answer questions to acheive our aim\n",
    "-Conclusion and recommendation"
   ]
  },
  {
   "cell_type": "markdown",
   "id": "ea9e62bf-ecda-4fba-9e40-30402ebaf9fd",
   "metadata": {},
   "source": []
  },
  {
   "cell_type": "markdown",
   "id": "17489f44-4b14-404c-aba7-d5d82cf9a4b8",
   "metadata": {},
   "source": [
    "Data Insights"
   ]
  },
  {
   "cell_type": "markdown",
   "id": "ca430a4b-c50a-4712-995b-2b166e299dc9",
   "metadata": {},
   "source": [
    "Demographic analysis/segmentation:\n",
    "There are more male customers 54.6% in the bank as compared to female customers which was 45.4%\n",
    "\n",
    "More male hold credit card as compared to females in the bank\n"
   ]
  },
  {
   "cell_type": "markdown",
   "id": "43738fc8-a79f-4fe8-8712-852ca7284e47",
   "metadata": {},
   "source": [
    "Exited Customer analysis:\n",
    "Spain has the least number of exited customers as compared the other rejions like Germany and france indicating high cusotmer retention in Spain"
   ]
  },
  {
   "cell_type": "code",
   "execution_count": null,
   "id": "4587ccc3-4d53-42be-a956-1a68c5ea7da6",
   "metadata": {},
   "outputs": [],
   "source": []
  },
  {
   "cell_type": "markdown",
   "id": "aeb41bbb-3141-43a3-9356-3bad5bd9ffe4",
   "metadata": {},
   "source": [
    "## RECOMMENDATIONS"
   ]
  },
  {
   "cell_type": "markdown",
   "id": "2f52aac1-a1bc-4ac5-987c-806c88652409",
   "metadata": {},
   "source": [
    "-Germany should enquir from spain to know what they do differently to retain more customers than them\n",
    "\n",
    "-Engage more working class customers that has the capacity to invest in the bank and also do more marketing to the aged one to still gain their interest in doing business with the bank\n",
    "\n",
    "-Address regional customer needs:conduct a deeper analysis into high exited regions to identify local needs or gaps in servises"
   ]
  },
  {
   "cell_type": "code",
   "execution_count": null,
   "id": "4b670558-b9b0-4d5f-a7f7-782bc30f188a",
   "metadata": {},
   "outputs": [],
   "source": []
  },
  {
   "cell_type": "markdown",
   "id": "ef137b1f-4790-4a33-b90e-30f86f2494de",
   "metadata": {},
   "source": [
    "## CONCLUSION"
   ]
  },
  {
   "cell_type": "markdown",
   "id": "bec36eca-1a31-4df4-b3f8-7417f2df93c7",
   "metadata": {},
   "source": [
    "The insight provided a clearer understanding of the banks customer demorgraphies,exit tendencies and engagement level"
   ]
  }
 ],
 "metadata": {
  "kernelspec": {
   "display_name": "Python 3 (ipykernel)",
   "language": "python",
   "name": "python3"
  },
  "language_info": {
   "codemirror_mode": {
    "name": "ipython",
    "version": 3
   },
   "file_extension": ".py",
   "mimetype": "text/x-python",
   "name": "python",
   "nbconvert_exporter": "python",
   "pygments_lexer": "ipython3",
   "version": "3.12.4"
  }
 },
 "nbformat": 4,
 "nbformat_minor": 5
}
